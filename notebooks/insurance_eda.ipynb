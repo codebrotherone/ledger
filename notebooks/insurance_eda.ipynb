{
 "cells": [
  {
   "cell_type": "markdown",
   "id": "located-headquarters",
   "metadata": {},
   "source": [
    "# Exploratory Data Analysis of Auto Insurance Policies \n",
    "\n",
    "### Agenda\n",
    "\n",
    "    1. Quick Data Summary\n",
    "    2. Facets Dive\n",
    "    3. Conclusion / Take aways"
   ]
  },
  {
   "cell_type": "markdown",
   "id": "organizational-interest",
   "metadata": {},
   "source": [
    "# Quick Data Summary"
   ]
  },
  {
   "cell_type": "code",
   "execution_count": 4,
   "id": "delayed-virtue",
   "metadata": {},
   "outputs": [
    {
     "name": "stdout",
     "output_type": "stream",
     "text": [
      "Columns\n",
      "['year',\n",
      " 'month',\n",
      " 'driver_age',\n",
      " 'driver_gender',\n",
      " 'driver_employment',\n",
      " 'driver_marital',\n",
      " 'driver_location',\n",
      " 'vehicle_age',\n",
      " 'vehicle_model',\n",
      " 'insurance_premium',\n",
      " 'insurance_claims',\n",
      " 'insurance_losses']\n",
      "\n",
      "There are 200000 rows and 12 columns\n"
     ]
    }
   ],
   "source": [
    "import pandas as pd\n",
    "import pprint as pp\n",
    "\n",
    "# read data\n",
    "df = pd.read_csv('../data/auto_policies.csv')\n",
    "# sort values and set index to year and month\n",
    "df.sort_values(['year', 'month'], inplace=True)\n",
    "print(\"Columns\")\n",
    "pp.pprint(df.columns.values.tolist())\n",
    "print()\n",
    "print(F\"There are {df.shape[0]} rows and {df.shape[1]} columns\")"
   ]
  },
  {
   "cell_type": "markdown",
   "id": "imported-rescue",
   "metadata": {},
   "source": [
    "### Set indexes for the dataframe\n",
    "Useful for grouping later, can take a few seconds"
   ]
  },
  {
   "cell_type": "code",
   "execution_count": null,
   "id": "convinced-elevation",
   "metadata": {},
   "outputs": [],
   "source": [
    "# Set the year and month to a datetime \n",
    "df['date'] = df['month'].map(lambda x: str(x).lstrip('0')) + '/' + df['year'].astype(str)\n",
    "df['date'].apply(lambda x: pd.to_datetime(x, format='%M/%Y'))\n",
    "# Set the index\n",
    "df.set_index('date', inplace=True)"
   ]
  },
  {
   "cell_type": "markdown",
   "id": "altered-child",
   "metadata": {},
   "source": [
    "### Separate Categorical values from Numerical Values"
   ]
  },
  {
   "cell_type": "code",
   "execution_count": null,
   "id": "herbal-canberra",
   "metadata": {},
   "outputs": [],
   "source": [
    "print(\"Here are the categorical columns\")\n",
    "cat_df_auto = df.filter(items=[col for col in df.columns if df[col].dtypes==object], axis=1)\n",
    "display(cat_df_auto.head())\n",
    "print()\n",
    "num_df_auto = df[[col for col in df.columns if df[col].dtypes != object]]\n",
    "print(\"Here are the numerical columns\")\n",
    "display(num_df_auto.head())"
   ]
  },
  {
   "cell_type": "markdown",
   "id": "sustainable-revolution",
   "metadata": {},
   "source": [
    "### How many null values? Memory Size?"
   ]
  },
  {
   "cell_type": "code",
   "execution_count": null,
   "id": "clear-elizabeth",
   "metadata": {},
   "outputs": [],
   "source": [
    "print(\"General DF Info described below\")\n",
    "print(df.info())"
   ]
  },
  {
   "cell_type": "markdown",
   "id": "relative-beads",
   "metadata": {},
   "source": [
    "### Describe the general statistics of each column. "
   ]
  },
  {
   "cell_type": "code",
   "execution_count": null,
   "id": "guided-vault",
   "metadata": {},
   "outputs": [],
   "source": [
    "import json\n",
    "import pprint as pp\n",
    "\n",
    "\n",
    "desc = num_df_auto.describe()\n",
    "for col in desc:\n",
    "    stats = desc[col]\n",
    "    print(F\"Stats for the column: {col}\")\n",
    "    pp.pprint(json.loads(stats.to_json()))\n",
    "    print()"
   ]
  },
  {
   "cell_type": "markdown",
   "id": "satellite-carrier",
   "metadata": {},
   "source": [
    "### Extract unique values for the categorical columns"
   ]
  },
  {
   "cell_type": "code",
   "execution_count": null,
   "id": "naval-frame",
   "metadata": {},
   "outputs": [],
   "source": [
    "for col in cat_df_auto:\n",
    "    print(F\"Unique values for column {col} are:\")\n",
    "    print(cat_df_auto[col].unique())\n",
    "    print()\n"
   ]
  },
  {
   "cell_type": "markdown",
   "id": "eight-nowhere",
   "metadata": {},
   "source": [
    "### Analyze relationships in the data - via Distributions\n",
    "    Focus on the premium, claims, and losses for the dataset and their equivalent probability distributions so that we can quickly identify trends. \n",
    "    \n",
    "### Distributions to Study\n",
    "    Insurance Premium Distribution by Other Features\n",
    "\n",
    "    Insurance Losses Distribution by Other Features\n",
    "    \n",
    "    Insurance Claims Distribution by Other Features"
   ]
  },
  {
   "cell_type": "code",
   "execution_count": null,
   "id": "controlled-reflection",
   "metadata": {},
   "outputs": [],
   "source": [
    "\n",
    "# Losses > Premium - Insurance Company Loses Money\n",
    "df[df.insurance_losses > df.insurance_premium]"
   ]
  },
  {
   "cell_type": "markdown",
   "id": "virgin-rocket",
   "metadata": {},
   "source": [
    "## Quick Data Summary\n",
    "1. There are 5 categorical columns\n",
    "    - driver_gender, driver_employment, driver_marital, driver_location, vehicle_model\n",
    "2. There are 5 numerical columns\n",
    "    - driver_age, vehicle_age, insurance_premium, insurance_claims, insurance_losses\n",
    "3. There are 2 date columns\n",
    "    - year, month\n",
    "4. 200,000 records all non-null\n",
    "\n",
    "  "
   ]
  },
  {
   "cell_type": "markdown",
   "id": "dangerous-effectiveness",
   "metadata": {},
   "source": [
    "## Facets Dive - Interactive Data Visualization\n",
    "### Pros\n",
    "- Good for initial data discovery. \n",
    "- Easy to share with others. \n",
    "\n",
    "### Cons\n",
    "- Does not work well for large datasets >100k records (sampling should be used)\n",
    "- Is not good for answering specific questions like nullity, sparseness, etc.."
   ]
  },
  {
   "cell_type": "code",
   "execution_count": 2,
   "id": "qualified-provider",
   "metadata": {},
   "outputs": [
    {
     "ename": "NameError",
     "evalue": "name 'auto_policies' is not defined",
     "output_type": "error",
     "traceback": [
      "\u001b[0;31m---------------------------------------------------------------------------\u001b[0m",
      "\u001b[0;31mNameError\u001b[0m                                 Traceback (most recent call last)",
      "\u001b[0;32m<ipython-input-2-1f59cbe1a2a9>\u001b[0m in \u001b[0;36m<module>\u001b[0;34m\u001b[0m\n\u001b[1;32m      6\u001b[0m \u001b[0;34m\u001b[0m\u001b[0m\n\u001b[1;32m      7\u001b[0m \u001b[0;31m# convert df into json string\u001b[0m\u001b[0;34m\u001b[0m\u001b[0;34m\u001b[0m\u001b[0;34m\u001b[0m\u001b[0m\n\u001b[0;32m----> 8\u001b[0;31m \u001b[0mjsonstr\u001b[0m \u001b[0;34m=\u001b[0m \u001b[0mauto_policies\u001b[0m\u001b[0;34m.\u001b[0m\u001b[0msample\u001b[0m\u001b[0;34m(\u001b[0m\u001b[0;36m.20\u001b[0m\u001b[0;34m)\u001b[0m\u001b[0;34m.\u001b[0m\u001b[0mto_json\u001b[0m\u001b[0;34m(\u001b[0m\u001b[0morient\u001b[0m\u001b[0;34m=\u001b[0m\u001b[0;34m'records'\u001b[0m\u001b[0;34m)\u001b[0m\u001b[0;34m\u001b[0m\u001b[0;34m\u001b[0m\u001b[0m\n\u001b[0m\u001b[1;32m      9\u001b[0m \u001b[0;31m# boilerplate template for facets dive\u001b[0m\u001b[0;34m\u001b[0m\u001b[0;34m\u001b[0m\u001b[0;34m\u001b[0m\u001b[0m\n\u001b[1;32m     10\u001b[0m HTML_TEMPLATE = \"\"\"\n",
      "\u001b[0;31mNameError\u001b[0m: name 'auto_policies' is not defined"
     ]
    }
   ],
   "source": [
    "\"\"\"\n",
    "Leverage the PAIR-overview Library to visualize data quickly \n",
    "Then save the results into a static web page for easy sharing. \n",
    "\"\"\"\n",
    "from IPython.core.display import display, HTML\n",
    "\n",
    "# convert df into json string\n",
    "jsonstr = auto_policies.sample(.20).to_json(orient='records')\n",
    "# boilerplate template for facets dive\n",
    "HTML_TEMPLATE = \"\"\"\n",
    "        <script src=\"https://cdnjs.cloudflare.com/ajax/libs/webcomponentsjs/1.3.3/webcomponents-lite.js\"></script>\n",
    "        <link rel=\"import\" href=\"https://raw.githubusercontent.com/PAIR-code/facets/1.0.0/facets-dist/facets-jupyter.html\">\n",
    "        <facets-dive id=\"elem\" height=\"600\"></facets-dive>\n",
    "        <script>\n",
    "          var data = {jsonstr};\n",
    "          document.querySelector(\"#elem\").data = data;\n",
    "        </script>\"\"\"\n",
    "\n",
    "# Inject into the Above HTML Template\n",
    "html = HTML_TEMPLATE.format(jsonstr=jsonstr)\n",
    "# Leveraging display() will work, but it can be slow for large datasets. (> 100k records)\n",
    "# So I will save it instead. \n",
    "# display(HTML(html))\n",
    "with open(\"auto_policy_dive.html\", \"w\") as f:\n",
    "    f.write(html)"
   ]
  },
  {
   "cell_type": "code",
   "execution_count": null,
   "id": "finished-status",
   "metadata": {},
   "outputs": [],
   "source": []
  }
 ],
 "metadata": {
  "kernelspec": {
   "display_name": "py39",
   "language": "python",
   "name": "py39"
  },
  "language_info": {
   "codemirror_mode": {
    "name": "ipython",
    "version": 3
   },
   "file_extension": ".py",
   "mimetype": "text/x-python",
   "name": "python",
   "nbconvert_exporter": "python",
   "pygments_lexer": "ipython3",
   "version": "3.9.0"
  }
 },
 "nbformat": 4,
 "nbformat_minor": 5
}
